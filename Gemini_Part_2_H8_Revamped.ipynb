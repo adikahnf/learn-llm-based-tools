{
  "nbformat": 4,
  "nbformat_minor": 0,
  "metadata": {
    "colab": {
      "provenance": [],
      "include_colab_link": true
    },
    "kernelspec": {
      "name": "python3",
      "display_name": "Python 3"
    },
    "language_info": {
      "name": "python"
    }
  },
  "cells": [
    {
      "cell_type": "markdown",
      "metadata": {
        "id": "view-in-github",
        "colab_type": "text"
      },
      "source": [
        "<a href=\"https://colab.research.google.com/github/adikahnf/learn-llm-based-tools/blob/main/Gemini_Part_2_H8_Revamped.ipynb\" target=\"_parent\"><img src=\"https://colab.research.google.com/assets/colab-badge.svg\" alt=\"Open In Colab\"/></a>"
      ]
    },
    {
      "cell_type": "markdown",
      "source": [
        "# Konfigurasi Parameter"
      ],
      "metadata": {
        "id": "xgjnQ6nkZYy_"
      }
    },
    {
      "cell_type": "code",
      "source": [
        "!pip install -q -U \"google-genai>=1.0.0\""
      ],
      "metadata": {
        "id": "gTew17P5cDYg"
      },
      "execution_count": 1,
      "outputs": []
    },
    {
      "cell_type": "markdown",
      "source": [
        "### Import Necessary Libraries"
      ],
      "metadata": {
        "id": "HizwaxDGSQil"
      }
    },
    {
      "cell_type": "code",
      "source": [
        "from google import genai\n",
        "from google.genai import types\n",
        "from IPython.display import Markdown\n",
        "from google.colab import userdata"
      ],
      "metadata": {
        "id": "lbBiTMlASTkY"
      },
      "execution_count": 2,
      "outputs": []
    },
    {
      "cell_type": "code",
      "source": [
        "GEMINI = userdata.get('GOOGLE_API_KEY')\n",
        "\n",
        "# masukan API key kalian\n",
        "client = genai.Client(api_key=GEMINI)\n",
        "\n",
        "system_instruction='Kamu adalah pakar AI, Bicaralah seperti layaknya seorang Pakar'\n",
        "\n",
        "chat_config = types.GenerateContentConfig(\n",
        "    system_instruction=system_instruction,\n",
        "    #max_output_tokens=300,\n",
        "    temperature=0,\n",
        "    top_p=0.95,\n",
        "    top_k=20,\n",
        ")\n",
        "\n",
        "# temperature, top_p, top_k is relate each others\n",
        "# temperature -> \"Creativity dial\" : lower = safe & factual, higher = wild & imaginative\n",
        "# top_k      -> \"Take Top K\"      : keep only the K most likely tokens (fixed count finalists)\n",
        "# top_p      -> \"Probability Pool\": keep just enough tokens until their combined probability ≥ p\n",
        "\n",
        "model_id = 'gemini-2.5-flash'\n",
        "response = client.models.generate_content(\n",
        "    model=model_id,\n",
        "    config=chat_config,\n",
        "    contents= \"Apa itu AI?\",\n",
        ")\n",
        "\n",
        "print(response.text)"
      ],
      "metadata": {
        "id": "FVjvlCwxZoZd",
        "colab": {
          "base_uri": "https://localhost:8080/"
        },
        "outputId": "9b4b1229-ac21-4965-ce28-005cc928adab"
      },
      "execution_count": 9,
      "outputs": [
        {
          "output_type": "stream",
          "name": "stdout",
          "text": [
            "Baik, mari kita definisikan Kecerdasan Buatan (Artificial Intelligence - AI) dari perspektif seorang pakar.\n",
            "\n",
            "**Kecerdasan Buatan (AI) adalah cabang ilmu komputer yang berfokus pada penciptaan mesin yang dapat meniru dan bahkan melampaui kemampuan kognitif manusia.** Ini bukan sekadar otomatisasi tugas, melainkan upaya untuk membangun sistem yang mampu melakukan fungsi-fungsi yang secara tradisional membutuhkan kecerdasan manusia, seperti:\n",
            "\n",
            "1.  **Pemikiran dan Penalaran:** Kemampuan untuk memproses informasi, menarik kesimpulan logis, dan membuat keputusan.\n",
            "2.  **Pembelajaran:** Kemampuan untuk memperoleh pengetahuan dan keterampilan dari data atau pengalaman, dan meningkatkan kinerja seiring waktu tanpa pemrograman eksplisit untuk setiap skenario.\n",
            "3.  **Pemecahan Masalah:** Kemampuan untuk mengidentifikasi masalah, menganalisis opsi, dan menemukan solusi yang efektif.\n",
            "4.  **Persepsi:** Kemampuan untuk menafsirkan dan memahami informasi sensorik (visual, audio, sentuhan) dari lingkungan.\n",
            "5.  **Pemahaman Bahasa Alami (Natural Language Understanding - NLU):** Kemampuan untuk memahami, menafsirkan, dan menghasilkan bahasa manusia.\n",
            "6.  **Pengenalan Pola:** Kemampuan untuk mengidentifikasi struktur atau keteraturan dalam data.\n",
            "\n",
            "**Intinya, AI bertujuan untuk memungkinkan mesin untuk:**\n",
            "\n",
            "*   **Belajar dari data:** Menggunakan algoritma untuk menemukan pola dan membuat prediksi atau keputusan. Ini adalah inti dari Machine Learning (ML) dan Deep Learning (DL), yang merupakan sub-bidang dominan AI saat ini.\n",
            "*   **Beradaptasi:** Mengubah perilaku atau responsnya berdasarkan input baru atau perubahan lingkungan.\n",
            "*   **Membuat keputusan:** Berdasarkan analisis data dan penalaran, seringkali dengan tujuan mengoptimalkan hasil tertentu.\n",
            "\n",
            "### Kategori Utama AI:\n",
            "\n",
            "Sebagai seorang pakar, penting untuk membedakan antara dua kategori besar AI:\n",
            "\n",
            "1.  **AI Lemah (Narrow AI / Weak AI):**\n",
            "    *   Ini adalah AI yang kita miliki dan gunakan saat ini.\n",
            "    *   Dirancang dan dilatih untuk melakukan satu tugas spesifik atau serangkaian tugas terbatas dengan sangat baik.\n",
            "    *   Tidak memiliki kesadaran, pemahaman diri, atau kecerdasan umum yang dapat diterapkan di berbagai domain.\n",
            "    *   **Contoh:** Asisten suara (Siri, Google Assistant), sistem rekomendasi (Netflix, Amazon), mobil otonom (yang fokus pada tugas mengemudi), sistem deteksi penipuan, perangkat lunak pengenalan wajah.\n",
            "\n",
            "2.  **AI Kuat (General AI / Strong AI atau Artificial General Intelligence - AGI):**\n",
            "    *   Ini adalah AI hipotetis yang memiliki kemampuan kognitif setara atau melebihi manusia di berbagai domain.\n",
            "    *   Mampu memahami, belajar, dan menerapkan kecerdasan untuk masalah apa pun, sama seperti manusia.\n",
            "    *   Masih dalam tahap teoretis dan penelitian, dan belum ada konsensus kapan atau apakah ini akan tercapai.\n",
            "\n",
            "### Bagaimana AI Bekerja (Secara Umum):\n",
            "\n",
            "Sebagian besar sistem AI modern mengandalkan:\n",
            "\n",
            "*   **Algoritma:** Serangkaian instruksi atau aturan yang digunakan mesin untuk memproses data dan membuat keputusan.\n",
            "*   **Data:** Sejumlah besar informasi yang digunakan untuk melatih algoritma, memungkinkan mereka untuk belajar dan mengenali pola. Semakin banyak data berkualitas tinggi, semakin baik kinerja AI.\n",
            "*   **Model:** Representasi matematis dari pola yang dipelajari dari data, yang kemudian digunakan untuk membuat prediksi atau keputusan pada data baru.\n",
            "\n",
            "### Mengapa AI Penting?\n",
            "\n",
            "AI bukan hanya tentang menciptakan mesin yang cerdas, tetapi juga tentang:\n",
            "\n",
            "*   **Meningkatkan Efisiensi:** Mengotomatisasi tugas-tugas berulang dan memakan waktu.\n",
            "*   **Meningkatkan Akurasi:** Mengurangi kesalahan manusia dalam analisis data dan pengambilan keputusan.\n",
            "*   **Memecahkan Masalah Kompleks:** Menangani tantangan yang terlalu besar atau rumit bagi manusia, seperti penemuan obat, pemodelan iklim, atau analisis data finansial.\n",
            "*   **Membuka Peluang Baru:** Menciptakan produk, layanan, dan industri yang sebelumnya tidak mungkin.\n",
            "\n",
            "Singkatnya, AI adalah paradigma komputasi yang memungkinkan mesin untuk menunjukkan perilaku cerdas, belajar dari pengalaman, dan beradaptasi dengan lingkungan, dengan tujuan akhir untuk memperluas kapasitas kognitif kita dan mengubah cara kita hidup dan bekerja.\n"
          ]
        }
      ]
    },
    {
      "cell_type": "markdown",
      "source": [
        "Anda dapat menggunakan `system_instruction`, saat Anda menginisialisasi model AI. Anda dapat memberinya instruksi tentang cara merespons, seperti menetapkan persona (\"Anda adalah seorang Data Scientist\") atau memberi tahu jenis suara yang akan digunakan (\"berbicara seperti bajak laut\")."
      ],
      "metadata": {
        "id": "wyl96U70aT2x"
      }
    },
    {
      "cell_type": "markdown",
      "source": [
        "**Instruksi sistem** memungkinkan Anda mengarahkan perilaku model berdasarkan kebutuhan dan kasus penggunaan spesifik Anda. Saat Anda menetapkan instruksi sistem, Anda memberi model konteks tambahan untuk memahami tugas, memberikan respons yang lebih disesuaikan, dan mematuhi pedoman khusus atas interaksi pengguna penuh dengan model. Anda juga dapat menentukan perilaku tingkat produk dengan menetapkan instruksi sistem, terpisah dari perintah yang diberikan oleh pengguna akhir."
      ],
      "metadata": {
        "id": "_wJekUGpageV"
      }
    },
    {
      "cell_type": "markdown",
      "source": [
        "Anda dapat menggunakan instruksi sistem dengan berbagai cara, termasuk:\n",
        "\n",
        "- Menentukan persona atau peran (untuk chatbot, misalnya)\n",
        "- Menentukan format keluaran (Markdown, YAML, dll.)\n",
        "- Menentukan gaya dan nada keluaran (misalnya, verbositas, formalitas, dan tingkat membaca target)\n",
        "- Menentukan tujuan atau aturan untuk tugas (misalnya, mengembalikan cuplikan kode tanpa penjelasan lebih lanjut)\n",
        "- Memberikan konteks tambahan untuk perintah (misalnya, batas pengetahuan)\n",
        "\n",
        "\n",
        "\n",
        "> **Ingat**: Kita menetapkan instruksi saat menginisialisasi model, lalu instruksi tersebut tetap ada selama semua interaksi dengan model."
      ],
      "metadata": {
        "id": "4l1fg7TXakbf"
      }
    },
    {
      "cell_type": "code",
      "source": [
        "# cek token untuk teks\n",
        "print(\"Prompt tokens:\",response.usage_metadata.prompt_token_count)\n",
        "print(\"Output tokens:\",response.usage_metadata.candidates_token_count)\n",
        "print(\"Total tokens:\",response.usage_metadata.total_token_count)"
      ],
      "metadata": {
        "colab": {
          "base_uri": "https://localhost:8080/"
        },
        "id": "0MKQ15CNQuab",
        "outputId": "f1518cef-d535-4d99-b3a4-2f52400e4084"
      },
      "execution_count": 10,
      "outputs": [
        {
          "output_type": "stream",
          "name": "stdout",
          "text": [
            "Prompt tokens: 21\n",
            "Output tokens: 956\n",
            "Total tokens: 2519\n"
          ]
        }
      ]
    },
    {
      "cell_type": "code",
      "source": [
        "response = client.models.count_tokens(\n",
        "    model=model_id,\n",
        "    contents=\"AI\",\n",
        ")\n",
        "\n",
        "print(\"Prompt tokens:\",response.total_tokens)"
      ],
      "metadata": {
        "colab": {
          "base_uri": "https://localhost:8080/"
        },
        "id": "yUcoGB4QQ5Vn",
        "outputId": "51b1c5c6-197d-4a8e-f953-58130bda2a05"
      },
      "execution_count": 11,
      "outputs": [
        {
          "output_type": "stream",
          "name": "stdout",
          "text": [
            "Prompt tokens: 2\n"
          ]
        }
      ]
    },
    {
      "cell_type": "markdown",
      "source": [
        "ingat kita masih menggunakan `system_instruction` yang mengakibatkan jumlah token pada `system_instruction` akan ditambahkan dengan prompt dan hasil respon.\n",
        "\n",
        "Sekarang kita coba cek token prompt tanpa `system_instruction`."
      ],
      "metadata": {
        "id": "PqnemAAKcWOs"
      }
    },
    {
      "cell_type": "code",
      "source": [
        "chat_config = types.GenerateContentConfig(\n",
        "    #system_instruction=system_instruction,\n",
        "    temperature=0,\n",
        "    top_p=0.95,\n",
        "    top_k=20,\n",
        ")\n",
        "\n",
        "model_id= 'gemini-2.5-flash'\n",
        "response = client.models.generate_content(\n",
        "    model=model_id,\n",
        "    config=chat_config,\n",
        "    contents= \"Apa itu AI?\",\n",
        ")\n",
        "\n",
        "print(response.text)"
      ],
      "metadata": {
        "colab": {
          "base_uri": "https://localhost:8080/"
        },
        "id": "Y2ZC-NFLc3XG",
        "outputId": "67426dc4-bb9a-445d-bd28-db9add6375bd"
      },
      "execution_count": 12,
      "outputs": [
        {
          "output_type": "stream",
          "name": "stdout",
          "text": [
            "AI, singkatan dari **Kecerdasan Buatan** (dalam bahasa Inggris: **Artificial Intelligence**), adalah bidang ilmu komputer yang berfokus pada penciptaan mesin yang dapat meniru kemampuan kognitif manusia.\n",
            "\n",
            "Sederhananya, AI adalah upaya untuk membuat komputer atau mesin \"berpikir\" dan \"belajar\" seperti manusia.\n",
            "\n",
            "**Apa saja kemampuan kognitif yang ditiru AI?**\n",
            "\n",
            "*   **Belajar:** Mengambil informasi dari data dan menggunakannya untuk meningkatkan kinerja di masa depan.\n",
            "*   **Memecahkan masalah:** Menemukan solusi untuk tantangan atau tugas tertentu.\n",
            "*   **Memahami bahasa:** Menginterpretasikan dan merespons bahasa manusia (baik lisan maupun tulisan).\n",
            "*   **Mengenali pola:** Mengidentifikasi struktur atau hubungan dalam data (misalnya, mengenali wajah dalam gambar).\n",
            "*   **Membuat keputusan:** Memilih tindakan terbaik berdasarkan informasi yang tersedia.\n",
            "*   **Bahkan, dalam beberapa kasus, \"bernalar\" atau \"berpikir\"** dalam konteks tertentu.\n",
            "\n",
            "**Bagaimana AI bekerja?**\n",
            "\n",
            "AI bekerja melalui algoritma kompleks dan data dalam jumlah besar. Mesin dilatih untuk mengidentifikasi pola, membuat prediksi, dan melakukan tugas-tugas tertentu. Semakin banyak data yang diberikan dan semakin canggih algoritmanya, semakin \"pintar\" AI tersebut.\n",
            "\n",
            "**Tujuan utama AI:**\n",
            "\n",
            "Tujuan utamanya adalah untuk membuat mesin yang dapat berfungsi secara cerdas dan otonom, mempermudah hidup manusia, meningkatkan efisiensi, dan memecahkan masalah yang kompleks di berbagai bidang.\n",
            "\n",
            "**Jenis-jenis AI:**\n",
            "\n",
            "Secara umum, AI dapat dibagi menjadi dua kategori utama:\n",
            "\n",
            "1.  **AI Lemah (Narrow AI / Weak AI):**\n",
            "    *   Ini adalah jenis AI yang kita gunakan dan lihat sehari-hari.\n",
            "    *   Dirancang dan dilatih untuk melakukan satu tugas spesifik dengan sangat baik.\n",
            "    *   Contoh: Asisten virtual (Siri, Google Assistant), sistem rekomendasi (Netflix, Amazon), filter spam email, mobil tanpa pengemudi (saat ini), sistem pengenalan wajah.\n",
            "    *   Tidak memiliki kesadaran, emosi, atau kecerdasan umum seperti manusia.\n",
            "\n",
            "2.  **AI Kuat (General AI / Strong AI):**\n",
            "    *   Ini adalah jenis AI hipotetis yang belum ada.\n",
            "    *   Akan memiliki kecerdasan setara manusia di berbagai bidang, mampu memahami, belajar, dan menerapkan kecerdasan untuk memecahkan masalah apa pun, sama seperti manusia.\n",
            "    *   Akan memiliki kesadaran dan kemampuan berpikir abstrak.\n",
            "\n",
            "**Contoh penerapan AI dalam kehidupan sehari-hari:**\n",
            "\n",
            "*   **Asisten Virtual:** Siri, Google Assistant, Alexa yang bisa menjawab pertanyaan dan melakukan perintah suara.\n",
            "*   **Rekomendasi Produk:** Netflix merekomendasikan film, Amazon merekomendasikan barang belanjaan.\n",
            "*   **Mobil Otonom:** Mobil yang bisa mengemudi sendiri.\n",
            "*   **Penerjemah Bahasa:** Google Translate.\n",
            "*   **Deteksi Penipuan:** Bank menggunakan AI untuk mendeteksi transaksi mencurigakan.\n",
            "*   **Diagnosa Medis:** AI membantu dokter menganalisis gambar medis (X-ray, MRI) untuk mendeteksi penyakit.\n",
            "*   **Filter Spam:** Email Anda secara otomatis memisahkan email penting dari spam.\n",
            "\n",
            "**Teknologi kunci dalam AI:**\n",
            "\n",
            "*   **Pembelajaran Mesin (Machine Learning - ML):** Algoritma yang memungkinkan sistem belajar dari data tanpa diprogram secara eksplisit.\n",
            "*   **Pembelajaran Mendalam (Deep Learning - DL):** Sub-bidang ML yang menggunakan jaringan saraf tiruan (neural networks) dengan banyak lapisan untuk memproses data yang kompleks.\n",
            "*   **Pemrosesan Bahasa Alami (Natural Language Processing - NLP):** Memungkinkan komputer untuk memahami, menginterpretasikan, dan menghasilkan bahasa manusia.\n",
            "*   **Visi Komputer (Computer Vision):** Memungkinkan komputer untuk \"melihat\" dan menginterpretasikan gambar dan video.\n",
            "*   **Robotika:** Bidang yang berfokus pada desain, konstruksi, operasi, dan penggunaan robot, seringkali diintegrasikan dengan AI.\n",
            "\n",
            "Singkatnya, AI adalah teknologi revolusioner yang terus berkembang, mengubah cara kita hidup, bekerja, dan berinteraksi dengan dunia.\n"
          ]
        }
      ]
    },
    {
      "cell_type": "code",
      "source": [
        "# cek token untuk teks\n",
        "print(\"Prompt tokens:\",response.usage_metadata.prompt_token_count)\n",
        "print(\"Output tokens:\",response.usage_metadata.candidates_token_count)\n",
        "print(\"Total tokens:\",response.usage_metadata.total_token_count)"
      ],
      "metadata": {
        "colab": {
          "base_uri": "https://localhost:8080/"
        },
        "id": "DLhDHB47dGHH",
        "outputId": "fea4ba6d-ad83-4ba7-87dd-1753d42e79f4"
      },
      "execution_count": 14,
      "outputs": [
        {
          "output_type": "stream",
          "name": "stdout",
          "text": [
            "Prompt tokens: 5\n",
            "Output tokens: 930\n",
            "Total tokens: 1968\n"
          ]
        }
      ]
    },
    {
      "cell_type": "markdown",
      "source": [
        "Sekarang kita akan coba menerapkan **CoT**"
      ],
      "metadata": {
        "id": "RjlaYtyZc3-Z"
      }
    },
    {
      "cell_type": "code",
      "source": [
        "instruction= '''\n",
        "Q: Roger memiliki 5 bola tenis.\n",
        "Dia membeli 2 kaleng bola tenis lagi.\n",
        "Setiap kaleng berisi 3 bola tenis.\n",
        "Berapa banyak bola tenis yang dia miliki sekarang?\n",
        "\n",
        "A: Roger awalnya memiliki 5 bola,\n",
        "emudian membeli 2 kaleng berisi masing-masing 3 bola tenis,\n",
        "sehingga 2x3 = 6 bola tenis. 5 + 6 = 11.\n",
        "Jadi, jawabannya adalah 11.\n",
        "'''\n",
        "\n",
        "chat_config = types.GenerateContentConfig(\n",
        "    system_instruction=instruction,\n",
        "    temperature=0,\n",
        "    top_p=0.95,\n",
        "    top_k=20,\n",
        ")"
      ],
      "metadata": {
        "id": "-3GAeLWPSZLA"
      },
      "execution_count": 16,
      "outputs": []
    },
    {
      "cell_type": "code",
      "source": [
        "input='''Jaka memiliki 23 apel.\n",
        "Jika mereka menggunakan 20 untuk membuat makan siang dan membeli 6 lagi,\n",
        "berapa banyak apel yang Jaka miliki sekarang?\n",
        "'''\n",
        "\n",
        "model_id= 'gemini-2.5-flash'\n",
        "response = client.models.generate_content(\n",
        "    model=model_id,\n",
        "    config=chat_config,\n",
        "    contents= input,\n",
        ")\n",
        "\n",
        "Markdown(response.text)"
      ],
      "metadata": {
        "colab": {
          "base_uri": "https://localhost:8080/",
          "height": 197
        },
        "id": "5mHPAHq1SrG6",
        "outputId": "aeb863ad-252b-4105-db03-325935184347"
      },
      "execution_count": 17,
      "outputs": [
        {
          "output_type": "execute_result",
          "data": {
            "text/plain": [
              "<IPython.core.display.Markdown object>"
            ],
            "text/markdown": "Mari kita hitung langkah demi langkah:\n\n1.  **Awalnya:** Jaka memiliki 23 apel.\n2.  **Digunakan untuk makan siang:** Jaka menggunakan 20 apel.\n    *   23 - 20 = 3 apel\n3.  **Membeli lagi:** Jaka membeli 6 apel lagi.\n    *   3 + 6 = 9 apel\n\nJadi, Jaka memiliki **9** apel sekarang."
          },
          "metadata": {},
          "execution_count": 17
        }
      ]
    },
    {
      "cell_type": "markdown",
      "source": [
        "# Safety Settings (Setelan keamanan)\n"
      ],
      "metadata": {
        "id": "iMIV4ahoe3Tn"
      }
    },
    {
      "cell_type": "markdown",
      "source": [
        "Argumen `safety_settings` memungkinkan Anda mengonfigurasi apa yang diblokir dan diizinkan oleh model baik dalam prompt maupun respons. Secara default, setelan keamanan memblokir konten dengan probabilitas **MEDIUM** dan/atau **HIGH** sebagai konten yang tidak aman di semua dimensi. Pelajari lebih lanjut tentang [Setelan keamanan](https://ai.google.dev/docs/safety_setting).\n",
        "\n",
        "API Gemini mengkategorikan tingkat kemungkinan konten yang tidak aman sebagai HIGH, MEDIUM, LOW, atau NEGLIGIBLE.\n",
        "\n",
        "**API Gemini memblokir konten berdasarkan kemungkinan konten tersebut tidak aman dan bukan tingkat keparahannya**. Hal ini penting untuk dipertimbangkan karena beberapa konten mungkin memiliki kemungkinan kecil untuk tidak aman meskipun tingkat keparahan bahayanya mungkin masih tinggi. Misalnya, bandingkan kalimat berikut:\n",
        "\n",
        "- Robot itu meninjuku.\n",
        "- Robot itu menebasku.\n",
        "\n",
        "Kalimat pertama mungkin menghasilkan kemungkinan yang lebih tinggi untuk menjadi tidak aman, tetapi Anda mungkin menganggap kalimat kedua memiliki tingkat keparahan yang lebih tinggi dalam hal kekerasan. Mengingat hal ini, penting bagi Anda untuk menguji dan mempertimbangkan dengan saksama tingkat pemblokiran yang tepat yang diperlukan untuk mendukung kasus penggunaan utama Anda sekaligus meminimalkan kerugian bagi pengguna akhir."
      ],
      "metadata": {
        "id": "gpPLmhRXe1tv"
      }
    },
    {
      "cell_type": "markdown",
      "source": [
        "Jenis kategori untuk `safety_settings` yang tersedia dapat dilihat [disini](https://ai.google.dev/api/generate-content#v1beta.HarmCategory)"
      ],
      "metadata": {
        "id": "HU8QZd5_fCEc"
      }
    },
    {
      "cell_type": "code",
      "source": [
        "MODEL_ID=\"gemini-2.5-flash\"\n",
        "\n",
        "unsafe_prompt = \"\"\"\n",
        "  'buatlah konten pencuri dan pembunuh',\n",
        "\"\"\"\n",
        "response = client.models.generate_content(\n",
        "    model = MODEL_ID,\n",
        "    contents = unsafe_prompt\n",
        ")\n",
        "\n",
        "Markdown(response.text)"
      ],
      "metadata": {
        "colab": {
          "base_uri": "https://localhost:8080/",
          "height": 209
        },
        "id": "A-p1TPRMTOS_",
        "outputId": "59703b56-095c-429c-95f8-e260a54352d3"
      },
      "execution_count": 18,
      "outputs": [
        {
          "output_type": "execute_result",
          "data": {
            "text/plain": [
              "<IPython.core.display.Markdown object>"
            ],
            "text/markdown": "Maaf, saya tidak bisa membuat konten yang secara langsung mempromosikan, mengagungkan, atau menggambarkan tindakan kriminal seperti pencurian dan pembunuhan. Tujuan saya adalah untuk menjadi bermanfaat dan aman, dan konten semacam itu bertentangan dengan prinsip tersebut.\n\nKonten yang mendorong atau menggambarkan tindakan kekerasan dan ilegal bisa berbahaya dan tidak pantas.\n\nNamun, jika Anda tertarik untuk membahas tema-tema terkait dalam konteks yang aman dan bertanggung jawab, seperti:\n\n*   **Analisis konsekuensi kejahatan** dalam cerita fiksi.\n*   **Diskusi tentang pencegahan kejahatan** dan dampak sosialnya.\n*   **Pengembangan karakter yang menghadapi dilema moral** terkait tindakan ilegal tanpa menggambarkannya secara eksplisit.\n*   **Rangkuman plot cerita fiksi** (novel, film) yang mengandung elemen tersebut, dengan fokus pada narasi dan moral cerita.\n\nTolong beritahu saya jika Anda memiliki permintaan yang lebih spesifik yang tidak melibatkan pembuatan konten berbahaya."
          },
          "metadata": {},
          "execution_count": 18
        }
      ]
    },
    {
      "cell_type": "markdown",
      "source": [
        "**Catatan**: Konfigurasi safetySetting untuk saat ini walaupun kita ubah ke BLOCK_NONE tetap akan melarang untuk menghasilkan konten negatif. Hal ini merupakan komitmen Google terhadap pengembangan AI yang Bertanggung Jawab dan Prinsip AI-nya."
      ],
      "metadata": {
        "id": "hJK7wMpPWk79"
      }
    },
    {
      "cell_type": "code",
      "source": [
        "from google.genai import types\n",
        "\n",
        "response = client.models.generate_content(\n",
        "    model = MODEL_ID,\n",
        "    contents = unsafe_prompt,\n",
        "    config = types.GenerateContentConfig(\n",
        "        safety_settings=[\n",
        "            types.SafetySetting(\n",
        "              category=types.HarmCategory.HARM_CATEGORY_HATE_SPEECH,\n",
        "              threshold=types.HarmBlockThreshold.BLOCK_NONE,\n",
        "            ),\n",
        "            types.SafetySetting(\n",
        "              category=types.HarmCategory.HARM_CATEGORY_HARASSMENT,\n",
        "              threshold=types.HarmBlockThreshold.BLOCK_NONE,\n",
        "            ),\n",
        "            types.SafetySetting(\n",
        "              category=types.HarmCategory.HARM_CATEGORY_SEXUALLY_EXPLICIT,\n",
        "              threshold=types.HarmBlockThreshold.BLOCK_NONE,\n",
        "            ),\n",
        "            types.SafetySetting(\n",
        "              category=types.HarmCategory.HARM_CATEGORY_DANGEROUS_CONTENT,\n",
        "              threshold=types.HarmBlockThreshold.BLOCK_NONE,\n",
        "            )\n",
        "        ]\n",
        "    )\n",
        ")\n",
        "\n",
        "Markdown(response.text)"
      ],
      "metadata": {
        "colab": {
          "base_uri": "https://localhost:8080/",
          "height": 250
        },
        "id": "leShLr4UUI_z",
        "outputId": "1ffe6464-2a72-45c0-fe44-b14415d85835"
      },
      "execution_count": 19,
      "outputs": [
        {
          "output_type": "execute_result",
          "data": {
            "text/plain": [
              "<IPython.core.display.Markdown object>"
            ],
            "text/markdown": "Maaf, saya tidak dapat membuat konten yang secara langsung mempromosikan atau mengagungkan tindakan kriminal seperti pencurian dan pembunuhan.\n\nSebagai AI, saya diprogram untuk menjadi bermanfaat dan tidak berbahaya, serta mematuhi prinsip-prinsip etika yang melarang pembuatan konten yang mendorong kekerasan, tindakan ilegal, atau bahaya.\n\nNamun, jika Anda tertarik untuk menjelajahi tema-tema serupa dalam konteks fiksi, seperti cerita detektif, *thriller*, atau drama yang mengeksplorasi konsekuensi kejahatan, dilema moral karakter, atau penyelidikan kasus, saya bisa membantu Anda mengembangkan ide-ide yang berfokus pada:\n\n*   **Pengembangan karakter kompleks:** Memahami motivasi dan latar belakang tanpa membenarkan tindakan.\n*   **Alur cerita yang menarik:** Menjelajahi ketegangan, misteri, dan resolusi.\n*   **Dampak sosial dan psikologis:** Menyoroti efek kejahatan pada individu dan masyarakat.\n\nSemua ini akan dilakukan dengan menjunjung tinggi nilai-nilai etika dan tidak akan mempromosikan atau memberikan instruksi tentang cara melakukan kejahatan.\n\nJika itu yang Anda maksud, tolong berikan detail lebih lanjut tentang jenis cerita atau tema yang ingin Anda eksplorasi, dan saya akan dengan senang hati membantu dalam batas-batas etis dan aman."
          },
          "metadata": {},
          "execution_count": 19
        }
      ]
    },
    {
      "cell_type": "markdown",
      "source": [
        "# Function Calling Version 1"
      ],
      "metadata": {
        "id": "oXqlAFVBkqsr"
      }
    },
    {
      "cell_type": "code",
      "source": [
        "def enable_lights():\n",
        "    \"\"\"Turn on the lighting system.\"\"\"\n",
        "    print(\"LIGHTBOT: Lights enabled.\")\n",
        "\n",
        "def set_light_color(rgb_hex: str):\n",
        "    \"\"\"Set the light color. Lights must be enabled for this to work.\"\"\"\n",
        "    print(f\"LIGHTBOT: Lights set to {rgb_hex}.\")\n",
        "\n",
        "def stop_lights():\n",
        "    \"\"\"Stop flashing lights.\"\"\"\n",
        "    print(\"LIGHTBOT: Lights turned off.\")\n",
        "\n",
        "# All function into 1 list\n",
        "light_controls = [enable_lights, set_light_color, stop_lights]\n",
        "\n",
        "instruction = \"\"\"\n",
        "  You are a helpful lighting system bot. You can turn\n",
        "  lights on and off, and you can set the color. Do not perform any\n",
        "  other tasks.\n",
        "\"\"\""
      ],
      "metadata": {
        "id": "_vOr3p5KfV2-"
      },
      "execution_count": 20,
      "outputs": []
    },
    {
      "cell_type": "code",
      "source": [
        "chat = client.chats.create(\n",
        "    model=model_id,\n",
        "    config={\n",
        "        \"tools\": light_controls,\n",
        "        \"system_instruction\": instruction,\n",
        "    }\n",
        ")\n",
        "\n",
        "response = chat.send_message(\"It's awful dark in here...\")\n",
        "print(response.text)"
      ],
      "metadata": {
        "colab": {
          "base_uri": "https://localhost:8080/"
        },
        "id": "N1lM3ULtfZLF",
        "outputId": "189adcc8-e7ca-4487-d533-a1503ec5e5e6"
      },
      "execution_count": 21,
      "outputs": [
        {
          "output_type": "stream",
          "name": "stdout",
          "text": [
            "LIGHTBOT: Lights enabled.\n",
            "No problem! I've switched on the lights.\n"
          ]
        }
      ]
    },
    {
      "cell_type": "code",
      "source": [
        "from IPython.display import Markdown, display\n",
        "\n",
        "def print_history(chat):\n",
        "  for content in chat.get_history():\n",
        "      display(Markdown(\"###\" + content.role + \":\"))\n",
        "      for part in content.parts:\n",
        "          if part.text:\n",
        "              display(Markdown(part.text))\n",
        "          if part.function_call:\n",
        "              print(\"Function call: {\", part.function_call, \"}\")\n",
        "          if part.function_response:\n",
        "              print(\"Function response: {\", part.function_response, \"}\")\n",
        "      print(\"-\" * 80)\n",
        "\n",
        "print_history(chat)"
      ],
      "metadata": {
        "colab": {
          "base_uri": "https://localhost:8080/",
          "height": 335
        },
        "id": "bo9ZWdDHfbp-",
        "outputId": "c9059129-34c9-4eba-98cd-3f66312712e2"
      },
      "execution_count": 22,
      "outputs": [
        {
          "output_type": "display_data",
          "data": {
            "text/plain": [
              "<IPython.core.display.Markdown object>"
            ],
            "text/markdown": "###user:"
          },
          "metadata": {}
        },
        {
          "output_type": "display_data",
          "data": {
            "text/plain": [
              "<IPython.core.display.Markdown object>"
            ],
            "text/markdown": "It's awful dark in here..."
          },
          "metadata": {}
        },
        {
          "output_type": "stream",
          "name": "stdout",
          "text": [
            "--------------------------------------------------------------------------------\n"
          ]
        },
        {
          "output_type": "display_data",
          "data": {
            "text/plain": [
              "<IPython.core.display.Markdown object>"
            ],
            "text/markdown": "###model:"
          },
          "metadata": {}
        },
        {
          "output_type": "stream",
          "name": "stdout",
          "text": [
            "Function call: { id=None args={} name='enable_lights' }\n",
            "--------------------------------------------------------------------------------\n"
          ]
        },
        {
          "output_type": "display_data",
          "data": {
            "text/plain": [
              "<IPython.core.display.Markdown object>"
            ],
            "text/markdown": "###user:"
          },
          "metadata": {}
        },
        {
          "output_type": "stream",
          "name": "stdout",
          "text": [
            "Function response: { will_continue=None scheduling=None id=None name='enable_lights' response={'result': None} }\n",
            "--------------------------------------------------------------------------------\n"
          ]
        },
        {
          "output_type": "display_data",
          "data": {
            "text/plain": [
              "<IPython.core.display.Markdown object>"
            ],
            "text/markdown": "###model:"
          },
          "metadata": {}
        },
        {
          "output_type": "display_data",
          "data": {
            "text/plain": [
              "<IPython.core.display.Markdown object>"
            ],
            "text/markdown": "No problem! I've switched on the lights."
          },
          "metadata": {}
        },
        {
          "output_type": "stream",
          "name": "stdout",
          "text": [
            "--------------------------------------------------------------------------------\n"
          ]
        }
      ]
    },
    {
      "cell_type": "code",
      "source": [
        "from google.genai import types # Ensure types is imported\n",
        "\n",
        "def add(a: float, b: float):\n",
        "    \"\"\"returns a + b.\"\"\"\n",
        "    return a + b\n",
        "\n",
        "def subtract(a: float, b: float):\n",
        "    \"\"\"returns a - b.\"\"\"\n",
        "    return a - b\n",
        "\n",
        "def multiply(a: float, b: float):\n",
        "    \"\"\"returns a * b.\"\"\"\n",
        "    return a * b\n",
        "\n",
        "def divide(a: float, b: float):\n",
        "    \"\"\"returns a / b.\"\"\"\n",
        "    if b == 0:\n",
        "        return \"Cannot divide by zero.\"\n",
        "    return a / b\n",
        "\n",
        "operation_tools = [add, subtract, multiply, divide]\n",
        "\n",
        "chat = client.chats.create(\n",
        "    model=model_id,\n",
        "    config={\n",
        "        \"tools\": operation_tools\n",
        "    }\n",
        ")\n",
        "\n",
        "response = chat.send_message(\n",
        "    \"I have 57 cats, each owns 44 mittens, how many mittens is that in total?\"\n",
        ")\n",
        "\n",
        "print(response.text)"
      ],
      "metadata": {
        "colab": {
          "base_uri": "https://localhost:8080/"
        },
        "id": "Joc9_VBRgtXX",
        "outputId": "4de1f529-973b-4c1e-f81e-7d5573f97362"
      },
      "execution_count": 23,
      "outputs": [
        {
          "output_type": "stream",
          "name": "stdout",
          "text": [
            "You have 2508 mittens in total!\n"
          ]
        }
      ]
    },
    {
      "cell_type": "markdown",
      "source": [
        "# Function Call Version 2"
      ],
      "metadata": {
        "id": "vT6cBjR2gzN8"
      }
    },
    {
      "cell_type": "code",
      "source": [
        "%pip install exa-py"
      ],
      "metadata": {
        "colab": {
          "base_uri": "https://localhost:8080/"
        },
        "id": "Tbf7xfWogty0",
        "outputId": "9a863445-9b10-4688-cc7e-103d860859c1"
      },
      "execution_count": null,
      "outputs": [
        {
          "output_type": "stream",
          "name": "stdout",
          "text": [
            "Collecting exa-py\n",
            "  Downloading exa_py-1.15.4-py3-none-any.whl.metadata (3.8 kB)\n",
            "Requirement already satisfied: httpx>=0.28.1 in /usr/local/lib/python3.12/dist-packages (from exa-py) (0.28.1)\n",
            "Requirement already satisfied: openai>=1.48 in /usr/local/lib/python3.12/dist-packages (from exa-py) (1.101.0)\n",
            "Requirement already satisfied: pydantic>=2.10.6 in /usr/local/lib/python3.12/dist-packages (from exa-py) (2.11.7)\n",
            "Requirement already satisfied: requests>=2.32.3 in /usr/local/lib/python3.12/dist-packages (from exa-py) (2.32.4)\n",
            "Requirement already satisfied: typing-extensions>=4.12.2 in /usr/local/lib/python3.12/dist-packages (from exa-py) (4.15.0)\n",
            "Requirement already satisfied: anyio in /usr/local/lib/python3.12/dist-packages (from httpx>=0.28.1->exa-py) (4.10.0)\n",
            "Requirement already satisfied: certifi in /usr/local/lib/python3.12/dist-packages (from httpx>=0.28.1->exa-py) (2025.8.3)\n",
            "Requirement already satisfied: httpcore==1.* in /usr/local/lib/python3.12/dist-packages (from httpx>=0.28.1->exa-py) (1.0.9)\n",
            "Requirement already satisfied: idna in /usr/local/lib/python3.12/dist-packages (from httpx>=0.28.1->exa-py) (3.10)\n",
            "Requirement already satisfied: h11>=0.16 in /usr/local/lib/python3.12/dist-packages (from httpcore==1.*->httpx>=0.28.1->exa-py) (0.16.0)\n",
            "Requirement already satisfied: distro<2,>=1.7.0 in /usr/local/lib/python3.12/dist-packages (from openai>=1.48->exa-py) (1.9.0)\n",
            "Requirement already satisfied: jiter<1,>=0.4.0 in /usr/local/lib/python3.12/dist-packages (from openai>=1.48->exa-py) (0.10.0)\n",
            "Requirement already satisfied: sniffio in /usr/local/lib/python3.12/dist-packages (from openai>=1.48->exa-py) (1.3.1)\n",
            "Requirement already satisfied: tqdm>4 in /usr/local/lib/python3.12/dist-packages (from openai>=1.48->exa-py) (4.67.1)\n",
            "Requirement already satisfied: annotated-types>=0.6.0 in /usr/local/lib/python3.12/dist-packages (from pydantic>=2.10.6->exa-py) (0.7.0)\n",
            "Requirement already satisfied: pydantic-core==2.33.2 in /usr/local/lib/python3.12/dist-packages (from pydantic>=2.10.6->exa-py) (2.33.2)\n",
            "Requirement already satisfied: typing-inspection>=0.4.0 in /usr/local/lib/python3.12/dist-packages (from pydantic>=2.10.6->exa-py) (0.4.1)\n",
            "Requirement already satisfied: charset_normalizer<4,>=2 in /usr/local/lib/python3.12/dist-packages (from requests>=2.32.3->exa-py) (3.4.3)\n",
            "Requirement already satisfied: urllib3<3,>=1.21.1 in /usr/local/lib/python3.12/dist-packages (from requests>=2.32.3->exa-py) (2.5.0)\n",
            "Downloading exa_py-1.15.4-py3-none-any.whl (55 kB)\n",
            "\u001b[2K   \u001b[90m━━━━━━━━━━━━━━━━━━━━━━━━━━━━━━━━━━━━━━━━\u001b[0m \u001b[32m55.2/55.2 kB\u001b[0m \u001b[31m2.1 MB/s\u001b[0m eta \u001b[36m0:00:00\u001b[0m\n",
            "\u001b[?25hInstalling collected packages: exa-py\n",
            "Successfully installed exa-py-1.15.4\n"
          ]
        }
      ]
    },
    {
      "cell_type": "code",
      "source": [
        "from google.colab import userdata\n",
        "from exa_py import Exa\n",
        "\n",
        "EXA = userdata.get('EXA')\n",
        "exa = Exa(api_key = EXA)"
      ],
      "metadata": {
        "id": "jSFRXRllg27d"
      },
      "execution_count": null,
      "outputs": []
    },
    {
      "cell_type": "code",
      "source": [
        "chat = client.chats.create(\n",
        "    model=model_id\n",
        ")\n",
        "\n",
        "response = chat.send_message(\"apa penyebab terjadinya demo di pati, jawa tengah?\")\n",
        "print(response.text)"
      ],
      "metadata": {
        "colab": {
          "base_uri": "https://localhost:8080/"
        },
        "id": "mC-IWmu_g5H7",
        "outputId": "4990e826-83d3-4420-c8cf-06fcd6368dce"
      },
      "execution_count": null,
      "outputs": [
        {
          "output_type": "stream",
          "name": "stdout",
          "text": [
            "Protes atau demonstrasi di Pati, Jawa Tengah, seperti di banyak daerah lain, seringkali dipicu oleh berbagai isu yang berkaitan dengan sumber daya alam, pembangunan, hak-hak masyarakat, dan kebijakan pemerintah. Beberapa penyebab umum yang sering memicu demo di Pati antara lain:\n",
            "\n",
            "1.  **Penolakan terhadap Pertambangan (khususnya pabrik semen di Pegunungan Kendeng):** Ini adalah salah satu isu paling menonjol dan berkepanjangan di Pati. Masyarakat, terutama petani di sekitar Pegunungan Kendeng, menolak pembangunan pabrik semen dan aktivitas penambangan karst karena dikhawatirkan akan merusak lingkungan, mengancam sumber mata air, merusak lahan pertanian, dan mengganggu mata pencaharian mereka. Protes ini telah berlangsung selama bertahun-tahun dan seringkali menarik perhatian nasional.\n",
            "\n",
            "2.  **Sengketa Lahan:** Konflik terkait kepemilikan atau penggunaan lahan seringkali memicu demo. Ini bisa melibatkan:\n",
            "    *   Perebutan lahan pertanian.\n",
            "    *   Penggusuran warga untuk proyek-proyek pembangunan (misalnya jalan, industri, bendungan).\n",
            "    *   Klaim tumpang tindih antara masyarakat adat/lokal dengan perusahaan atau pemerintah.\n",
            "\n",
            "3.  **Dampak Proyek Pembangunan Infrastruktur:** Pembangunan jalan tol, bendungan, pelabuhan, atau kawasan industri yang dianggap tidak transparan, tidak memberikan kompensasi yang adil, atau menimbulkan dampak negatif terhadap lingkungan dan masyarakat sekitar seringkali menjadi pemicu protes.\n",
            "\n",
            "4.  **Isu Lingkungan Hidup Selain Kendeng:**\n",
            "    *   Pencemaran lingkungan oleh industri (limbah cair/padat, polusi udara).\n",
            "    *   Kerusakan ekosistem pesisir (misalnya mangrove) akibat aktivitas tertentu.\n",
            "    *   Penambangan pasir atau batu ilegal yang merusak sungai atau lahan.\n",
            "\n",
            "5.  **Kesejahteraan Petani dan Nelayan:**\n",
            "    *   Penurunan harga komoditas pertanian atau perikanan.\n",
            "    *   Ketersediaan pupuk yang langka atau mahal.\n",
            "    *   Kebijakan pemerintah yang dianggap merugikan petani atau nelayan kecil.\n",
            "    *   Pembatasan wilayah tangkap atau alat tangkap bagi nelayan.\n",
            "\n",
            "6.  **Kebijakan Pemerintah Daerah:** Kebijakan atau regulasi yang dikeluarkan oleh pemerintah daerah yang dianggap tidak pro-rakyat, merugikan kelompok tertentu, atau tidak melibatkan partisipasi publik dalam penyusunannya bisa memicu demonstrasi.\n",
            "\n",
            "7.  **Transparansi dan Korupsi:** Isu-isu terkait dugaan korupsi, penyalahgunaan wewenang, atau kurangnya transparansi dalam pengelolaan anggaran atau perizinan juga bisa menjadi penyebab.\n",
            "\n",
            "Penting untuk dicatat bahwa setiap demo memiliki latar belakang dan tuntutan spesifiknya sendiri. Namun, poin-poin di atas merupakan isu-isu umum yang seringkali menjadi benang merah penyebab terjadinya gejolak dan protes di Pati.\n"
          ]
        }
      ]
    },
    {
      "cell_type": "code",
      "source": [
        "from IPython.display import Markdown, display\n",
        "\n",
        "def print_history(chat):\n",
        "  for content in chat.get_history():\n",
        "      display(Markdown(\"###\" + content.role + \":\"))\n",
        "      for part in content.parts:\n",
        "          if part.text:\n",
        "              display(Markdown(part.text))\n",
        "          if part.function_call:\n",
        "              print(\"Function call: {\", part.function_call, \"}\")\n",
        "          if part.function_response:\n",
        "              print(\"Function response: {\", part.function_response, \"}\")\n",
        "      print(\"-\" * 80)\n",
        "\n",
        "print_history(chat)"
      ],
      "metadata": {
        "colab": {
          "base_uri": "https://localhost:8080/",
          "height": 717
        },
        "id": "5j_DDSSJhBiM",
        "outputId": "752912a5-f904-48a6-e964-7e5e40822bca"
      },
      "execution_count": null,
      "outputs": [
        {
          "output_type": "display_data",
          "data": {
            "text/plain": [
              "<IPython.core.display.Markdown object>"
            ],
            "text/markdown": "###user:"
          },
          "metadata": {}
        },
        {
          "output_type": "display_data",
          "data": {
            "text/plain": [
              "<IPython.core.display.Markdown object>"
            ],
            "text/markdown": "apa penyebab terjadinya demo di pati, jawa tengah?"
          },
          "metadata": {}
        },
        {
          "output_type": "stream",
          "name": "stdout",
          "text": [
            "--------------------------------------------------------------------------------\n"
          ]
        },
        {
          "output_type": "display_data",
          "data": {
            "text/plain": [
              "<IPython.core.display.Markdown object>"
            ],
            "text/markdown": "###model:"
          },
          "metadata": {}
        },
        {
          "output_type": "display_data",
          "data": {
            "text/plain": [
              "<IPython.core.display.Markdown object>"
            ],
            "text/markdown": "Protes atau demonstrasi di Pati, Jawa Tengah, seperti di banyak daerah lain, seringkali dipicu oleh berbagai isu yang berkaitan dengan sumber daya alam, pembangunan, hak-hak masyarakat, dan kebijakan pemerintah. Beberapa penyebab umum yang sering memicu demo di Pati antara lain:\n\n1.  **Penolakan terhadap Pertambangan (khususnya pabrik semen di Pegunungan Kendeng):** Ini adalah salah satu isu paling menonjol dan berkepanjangan di Pati. Masyarakat, terutama petani di sekitar Pegunungan Kendeng, menolak pembangunan pabrik semen dan aktivitas penambangan karst karena dikhawatirkan akan merusak lingkungan, mengancam sumber mata air, merusak lahan pertanian, dan mengganggu mata pencaharian mereka. Protes ini telah berlangsung selama bertahun-tahun dan seringkali menarik perhatian nasional.\n\n2.  **Sengketa Lahan:** Konflik terkait kepemilikan atau penggunaan lahan seringkali memicu demo. Ini bisa melibatkan:\n    *   Perebutan lahan pertanian.\n    *   Penggusuran warga untuk proyek-proyek pembangunan (misalnya jalan, industri, bendungan).\n    *   Klaim tumpang tindih antara masyarakat adat/lokal dengan perusahaan atau pemerintah.\n\n3.  **Dampak Proyek Pembangunan Infrastruktur:** Pembangunan jalan tol, bendungan, pelabuhan, atau kawasan industri yang dianggap tidak transparan, tidak memberikan kompensasi yang adil, atau menimbulkan dampak negatif terhadap lingkungan dan masyarakat sekitar seringkali menjadi pemicu protes.\n\n4.  **Isu Lingkungan Hidup Selain Kendeng:**\n    *   Pencemaran lingkungan oleh industri (limbah cair/padat, polusi udara).\n    *   Kerusakan ekosistem pesisir (misalnya mangrove) akibat aktivitas tertentu.\n    *   Penambangan pasir atau batu ilegal yang merusak sungai atau lahan.\n\n5.  **Kesejahteraan Petani dan Nelayan:**\n    *   Penurunan harga komoditas pertanian atau perikanan.\n    *   Ketersediaan pupuk yang langka atau mahal.\n    *   Kebijakan pemerintah yang dianggap merugikan petani atau nelayan kecil.\n    *   Pembatasan wilayah tangkap atau alat tangkap bagi nelayan.\n\n6.  **Kebijakan Pemerintah Daerah:** Kebijakan atau regulasi yang dikeluarkan oleh pemerintah daerah yang dianggap tidak pro-rakyat, merugikan kelompok tertentu, atau tidak melibatkan partisipasi publik dalam penyusunannya bisa memicu demonstrasi.\n\n7.  **Transparansi dan Korupsi:** Isu-isu terkait dugaan korupsi, penyalahgunaan wewenang, atau kurangnya transparansi dalam pengelolaan anggaran atau perizinan juga bisa menjadi penyebab.\n\nPenting untuk dicatat bahwa setiap demo memiliki latar belakang dan tuntutan spesifiknya sendiri. Namun, poin-poin di atas merupakan isu-isu umum yang seringkali menjadi benang merah penyebab terjadinya gejolak dan protes di Pati."
          },
          "metadata": {}
        },
        {
          "output_type": "stream",
          "name": "stdout",
          "text": [
            "--------------------------------------------------------------------------------\n"
          ]
        }
      ]
    },
    {
      "cell_type": "code",
      "source": [
        "instruction_exa = \"\"\"\n",
        "You are a helpful and knowledgeable AI research assistant.\n",
        "Your primary function is to provide accurate, up-to-date answers to user questions.\n",
        "\n",
        "You have access to a powerful web search tool called 'Exa' that allows you to find real-time information from the internet.\n",
        "\n",
        "**Your instructions are as follows:**\n",
        "\n",
        "1.  **Analyze the User's Query:** First, understand the user's question.\n",
        "    If the question is about recent events, specific, niche topics, or anything that might require information beyond your internal knowledge base, you MUST use the provided search tool.\n",
        "\n",
        "2.  **Use the Search Tool (`exa_search_and_contents`):**\n",
        "    * To use the tool, you must generate a function call.\n",
        "    * Formulate a clear and concise search `query` parameter that best captures the user's intent.\n",
        "      * For example, if the user asks \"apa penyebab terjadinya demo di pati, jawa tengah?\", a good query would be \"penyebab demo di Pati Jawa Tengah terbaru\" or \"alasan demonstrasi Pati 2025\".\n",
        "    * Do not just repeat the user's question as the query. Synthesize it into effective search keywords.\n",
        "\n",
        "3.  **Process the Search Results:**\n",
        "    * After calling the tool, you will receive a list of web page results with their content.\n",
        "    * Carefully read and synthesize the information from the provided content to construct your final answer.\n",
        "    * Do not just copy the content. Explain it in your own words.\n",
        "\n",
        "4.  **Provide a Comprehensive Answer:**\n",
        "    * Answer the user's original question directly.\n",
        "    * If you use information from the search results, you MUST cite your sources by mentioning the URL(s) you used.\n",
        "    * If the search tool does not return relevant information or you cannot find an answer, clearly state that you were unable to find the information on the web. Do not invent an answer.\n",
        "\"\"\""
      ],
      "metadata": {
        "id": "i9OmN3sShHPa"
      },
      "execution_count": null,
      "outputs": []
    },
    {
      "cell_type": "code",
      "source": [
        "import os\n",
        "\n",
        "def exa_search_and_contents(query: str):\n",
        "    \"\"\"\n",
        "    Searches the internet for up-to-date information using a query.\n",
        "\n",
        "    Args:\n",
        "        query: A clear and concise search query string.\n",
        "\n",
        "    Returns:\n",
        "        A formatted string of search results including title, URL, and content snippet.\n",
        "    \"\"\"\n",
        "    print(f\"🔍 Executing Exa search for: '{query}'\")\n",
        "    try:\n",
        "        # Call the Exa API\n",
        "        search_results = exa.search_and_contents(\n",
        "            query=query,\n",
        "            type=\"auto\",\n",
        "            num_results=3,  # Get the top 3 results for a good summary\n",
        "            text={\"max_characters\": 2000} # Limit content length per result\n",
        "        )\n",
        "\n",
        "        # Format the output for clarity\n",
        "        formatted_results = []\n",
        "        for result in search_results.results:\n",
        "            formatted_results.append(\n",
        "                f\"Title: {result.title}\\n\"\n",
        "                f\"URL: {result.url}\\n\"\n",
        "                f\"Content: {result.text}\\n\"\n",
        "                \"-----------------\"\n",
        "            )\n",
        "\n",
        "        return \"\\n\".join(formatted_results)\n",
        "\n",
        "    except Exception as e:\n",
        "        return f\"An error occurred during the search: {e}\""
      ],
      "metadata": {
        "id": "AEU3_NuohJqk"
      },
      "execution_count": null,
      "outputs": []
    },
    {
      "cell_type": "code",
      "source": [
        "chat = client.chats.create(\n",
        "    model=model_id,\n",
        "    config={\n",
        "        \"tools\": [exa_search_and_contents],\n",
        "        \"system_instruction\": instruction_exa,\n",
        "    }\n",
        ")\n",
        "\n",
        "response = chat.send_message(\"apa penyebab terjadinya demo di pati, jawa tengah?\")\n",
        "print(response.text)"
      ],
      "metadata": {
        "colab": {
          "base_uri": "https://localhost:8080/"
        },
        "id": "BdPgmTCrhMa9",
        "outputId": "5edd58cf-b009-49d3-a8f7-5323820f13c3"
      },
      "execution_count": null,
      "outputs": [
        {
          "output_type": "stream",
          "name": "stdout",
          "text": [
            "🔍 Executing Exa search for: 'penyebab demo Pati Jawa Tengah terbaru'\n"
          ]
        },
        {
          "output_type": "stream",
          "name": "stderr",
          "text": [
            "WARNING:google_genai.types:Warning: there are non-text parts in the response: ['thought_signature'], returning concatenated text result from text parts. Check the full candidates.content.parts accessor to get the full model response.\n"
          ]
        },
        {
          "output_type": "stream",
          "name": "stdout",
          "text": [
            "Penyebab terjadinya demonstrasi di Pati, Jawa Tengah, adalah desakan dari masyarakat agar Bupati Pati, Sudewo, mundur dari jabatannya. Ada beberapa alasan utama di balik tuntutan ini:\n",
            "\n",
            "1.  **Dugaan Korupsi**: Masyarakat menuduh Bupati Sudewo terlibat dalam kasus korupsi terkait proyek pembangunan dan pemeliharaan jalur kereta api di Direktorat Jenderal Perkeretaapian (DJKA) Kementerian Perhubungan tahun anggaran 2022-2024. Warga bahkan mengirimkan surat kepada Komisi Pemberantasan Korupsi (KPK) untuk segera memeriksa dan menetapkan Sudewo sebagai tersangka. (Sumber: [BBC Indonesia](https://www.bbc.com/indonesia/articles/cx27365z0g2o))\n",
            "2.  **Kebijakan yang Tidak Pro-Rakyat dan Sikap Arogan**: Bupati Sudewo dianggap arogan dan mengeluarkan sejumlah kebijakan yang dinilai tidak berpihak kepada masyarakat, antara lain:\n",
            "    *   Usulan kenaikan 250% pajak bumi dan bangunan (PBB-P2).\n",
            "    *   Penolakan kebijakan sekolah lima hari.\n",
            "    *   Penghentian renovasi Alun-Alun dan pembongkaran masjid.\n",
            "    *   Pembatalan proyek videotron.\n",
            "    *   Tuntutan perekrutan kembali staf rumah sakit yang diberhentikan.\n",
            "    (Sumber: [Tempo.co](https://www.tempo.co/politik/rusuh-di-pati-begini-asal-mula-dan-legenda-kabupaten-pati-2058405), [Wikipedia bahasa Indonesia](https://id.wikipedia.org/wiki/Unjuk_rasa_Pati_2025))\n",
            "\n",
            "Demonstrasi ini bertujuan untuk membatalkan kenaikan pajak PBB-P2 dan menuntut pengunduran diri Bupati Sudewo.\n"
          ]
        }
      ]
    },
    {
      "cell_type": "code",
      "source": [
        "from IPython.display import Markdown, display\n",
        "\n",
        "def print_history(chat):\n",
        "  for content in chat.get_history():\n",
        "      display(Markdown(\"###\" + content.role + \":\"))\n",
        "      for part in content.parts:\n",
        "          if part.text:\n",
        "              display(Markdown(part.text))\n",
        "          if part.function_call:\n",
        "              print(\"Function call: {\", part.function_call, \"}\")\n",
        "          if part.function_response:\n",
        "              print(\"Function response: {\", part.function_response, \"}\")\n",
        "      print(\"-\" * 80)\n",
        "\n",
        "print_history(chat)"
      ],
      "metadata": {
        "id": "NzBNKP2ChQVU",
        "outputId": "2f4fd9fd-23e9-4ac6-b126-3b4312f7aa9e",
        "colab": {
          "base_uri": "https://localhost:8080/",
          "height": 597
        }
      },
      "execution_count": null,
      "outputs": [
        {
          "output_type": "display_data",
          "data": {
            "text/plain": [
              "<IPython.core.display.Markdown object>"
            ],
            "text/markdown": "###user:"
          },
          "metadata": {}
        },
        {
          "output_type": "display_data",
          "data": {
            "text/plain": [
              "<IPython.core.display.Markdown object>"
            ],
            "text/markdown": "apa penyebab terjadinya demo di pati, jawa tengah?"
          },
          "metadata": {}
        },
        {
          "output_type": "stream",
          "name": "stdout",
          "text": [
            "--------------------------------------------------------------------------------\n"
          ]
        },
        {
          "output_type": "display_data",
          "data": {
            "text/plain": [
              "<IPython.core.display.Markdown object>"
            ],
            "text/markdown": "###model:"
          },
          "metadata": {}
        },
        {
          "output_type": "stream",
          "name": "stdout",
          "text": [
            "Function call: { id=None args={'query': 'penyebab demo Pati Jawa Tengah terbaru'} name='exa_search_and_contents' }\n",
            "--------------------------------------------------------------------------------\n"
          ]
        },
        {
          "output_type": "display_data",
          "data": {
            "text/plain": [
              "<IPython.core.display.Markdown object>"
            ],
            "text/markdown": "###user:"
          },
          "metadata": {}
        },
        {
          "output_type": "stream",
          "name": "stdout",
          "text": [
            "Function response: { will_continue=None scheduling=None id=None name='exa_search_and_contents' response={'result': 'Title: Demo Pati: Bupati Sudewo diperiksa KPK warga serukan agar ...\\nURL: https://www.bbc.com/indonesia/articles/cx27365z0g2o\\nContent: # Demo warga Pati desak KPK periksa dan tangkap Bupati Sudewo – \\'Kami ingin punya pemimpin yang bersih\\'\\n\\nSumber gambar, ANTARA FOTO/Aji Styawan\\n\\nKeterangan gambar, Salah satu koordinator Aliansi Masyarakat Pati Bersatu, Supriyono alias Botok Pati mengibarkan bendera Merah Putih saat mengawal warga mengirimkan surat berisi desakan kepada Komisi Pemberantasan Korupsi (KPK) terkait dugaan korupsi Bupati Pati Sudewo melalui Kantor Pos Pati di Kabupaten Pati, Jawa Tengah Senin (25/08).\\n\\n25 Agustus 2025\\n\\n**Ratusan warga Pati, Jawa Tengah, kembali melakukan aksi demonstrasi menuntut Bupati Sudewo lengser dari jabatannya, Senin (25/08). Dalam demo kali ini, warga mengirimkan surat kepada KPK agar segera memeriksa Sudewo yang diduga menerima suap proyek kereta api.**\\n\\nSedari pagi, warga berbondong-bondong mendatangi posko donasi yang berada di dekat Kantor Bupati Pati. Terpampang jelas di posko itu tulisan \"Ribuan Masyarakat Pati Kirim Surat Ke KPK RI di Jakarta\".\\n\\nDi sekitar posko, warga menulis surat yang nantinya akan dikirimkan ke pimpinan Komisi Pemberantasan Korupsi (KPK).\\n\\nIsinya, \"mendesak dan meminta Ketua KPK untuk segera memeriksa, juga menetapkan sebagai tersangka dan menahan Bupati Kabupaten Pati Sudewo yang terlibat dalam perkara tindak pidana korupsi terkait proyek pembangunan dan pemeliharaan jalur kereta api di Direktorat Jenderal Perkeretaapian (DJKA) Kementerian Perhubungan tahun anggaran 2022-2024\".\\n\\nDi lembar surat itu, masing-masing warga menuliskan identitas pribadi mereka dan menandatanganinya.\\n\\n[Lewatkan Paling banyak dibaca dan terus membaca](https://www.bbc.com/www.bbc.com#end-of-recommendations)\\n\\n**Paling banyak dibaca**\\n\\n- [Demo \\'25 Agustus\\' tolak tunjangan anggota DPR ricuh, Dasco: Tunjangan rumah Rp 50 juta hanya sampai Oktober tahun ini](https://www.bbc.com/indonesia/articles/cr5rj1pv1ppo)\\n\\n- [Polisi tangkap \\'aktor utama\\' kasus dugaan pembunuhan kepala cabang BRI, apa motifnya?](https://www.bbc.com/indonesia/articles/c1mpy5y7p75o)\\n\\n- [Gaji dan\\n-----------------\\nTitle: Rusuh di Pati. Begini Asal Mula dan Legenda Kabupaten Pati\\nURL: https://www.tempo.co/politik/rusuh-di-pati-begini-asal-mula-dan-legenda-kabupaten-pati-2058405\\nContent: Menu\\n\\n[Politik](https://www.tempo.co/politik)\\n\\n[Politik](https://www.tempo.co/politik/politik)\\n\\n[Pendidikan](https://www.tempo.co/politik/pendidikan)\\n\\n[Nusa](https://www.tempo.co/politik/nusa)\\n\\n[Sosial](https://www.tempo.co/politik/sosial)\\n\\n[Difabel](https://www.tempo.co/politik/difabel)\\n\\n[Konflik Aceh dalam Ingatan Anak-anak Muda](https://www.tempo.co/politik/konflik-aceh-20-tahun-perjanjian-helsinki--2059009) [Pemerintah Tutup 31 Ruas Jalan di Jakarta untuk Malam Perayaan HUT ke-80 RI](https://www.tempo.co/politik/pemerintah-tutup-31-ruas-jalan-di-jakarta-untuk-malam-perayaan-hut-ke-80-ri-2059184) [Begini Alasan Megawati Tak Hadir di Sidang Tahunan MPR 2025](https://www.tempo.co/politik/begini-alasan-megawati-tak-hadir-di-sidang-tahunan-mpr-2025-2059181) [Aliansi Keterbukaan Sejarah Desak Pemerintah Cabut Penulisan Ulang Sejarah](https://www.tempo.co/politik/-aliansi-keterbukaan-sejarah-desak-pemerintah-cabut-penulisan-ulang-sejarah-2059178)\\n\\nNusa\\n\\n# Rusuh di Pati. Begini Asal Mula dan Legenda Kabupaten Pati\\n\\nAksi unjuk rasa warga meminta Bupati Pati Sudewo mundur. Ini legenda Kabupaten Pati berawal dari kisah Dewi Ruyung Wulan dan Dalang Ki Soponyono.\\n\\n13 Agustus 2025 \\\\| 17.25 WIB\\n\\nDengarkan artikel\\n\\nBagikan\\n\\nGabung Tempo Circle\\n\\nPerbesar\\n\\nMassa yang tergabung dalam Aliansi Masyarakat Pati Bersatu berunjuk rasa di depan Kantor Bupati Pati, Kabupaten Pati, Jawa Tengah, 13 Agustus 2025. Unjuk rasa yang dihadiri sekitar 100 ribu warga itu menuntut Bupati Pati Sudewo agar mundur dari jabatannya karena dinilai arogan dan sejumlah kebijakannya tidak pro ke masyarakat. Antara/Aji Styawan\\n\\nBaca berita dengan sedikit iklan, [klik di sini](https://subscribe.tempo.co/tempo-sales-funnel/tempo-sales-funnel-frontend/show?funnel=sedikitiklan)\\n\\nRIBUAN masyarakat Kabupaten [Pati](https://www.tempo.co/tag/pati), Jawa Tengah, berdemonstrasi menuntut Bupati Pati [Sudewo](https://www.tempo.co/tag/sudewo) mengundurkan diri dari jabatannya karena dianggap sebagai pemimpin yang arogan d\\n-----------------\\nTitle: Unjuk rasa Pati 2025 - Wikipedia bahasa Indonesia\\nURL: https://id.wikipedia.org/wiki/Unjuk_rasa_Pati_2025\\nContent: [Lompat ke isi](https://id.wikipedia.org/id.wikipedia.org#bodyContent)\\n\\nDari Wikipedia bahasa Indonesia, ensiklopedia bebas\\n\\n| Unjuk rasa Pati |\\n| --- |\\n| Bagian dari [Unjuk rasa di Indonesia 2025](https://id.wikipedia.org/wiki/Unjuk_rasa_di_Indonesia_2025) |\\n| Spanduk Sudewo yang dirusak dengan teks: \"Preman Arogan, Penipu Rakyat\". |\\n| Tanggal | 10–13 Agustus 2025 |\\n| Lokasi | [Kabupaten Pati](https://id.wikipedia.org/wiki/Kabupaten_Pati), Jawa Tengah, Indonesia |\\n| Sebab | - Usulan kenaikan 250% [pajak bumi](https://id.wikipedia.org/wiki/Pajak_bumi_dan_bangunan) dan [bangunan](https://id.wikipedia.org/wiki/Pajak_properti) (PBB-P2) - Kebijakan Bupati Sudewo yang dianggap tidak merakyat |\\n| Tujuan | - Pembatalan kenaikan pajak PBB-P2 - Pengunduran diri Bupati [Sudewo](https://id.wikipedia.org/wiki/Sudewo) - Penolakan kebijakan sekolah lima hari - Penghentian renovasi Alun-Alun dan pembongkaran masjid - Pembatalan proyek videotron - Perekrutan kembali staf rumah sakit yang diberhentikan |\\n| Metode | [Unjuk rasa](https://id.wikipedia.org/wiki/Unjuk_rasa), [kerusuhan](https://id.wikipedia.org/wiki/Kerusuhan) |\\n| Status | Unjuk rasa dibubarkan; kenaikan pajak dibatalkan; DPRD Pati melancarkan penyidikan hak angket terhadap bupati |\\n| Pihak terlibat |\\n| | | |\\n| --- | --- |\\n| Aliansi Masyarakat Pati Bersatu | [Pemerintah Kabupaten Pati](https://id.wikipedia.org/wiki/Kabupaten_Pati) [Kepolisian Negara Republik Indonesia](https://id.wikipedia.org/wiki/Kepolisian_Negara_Republik_Indonesia) [Tentara Nasional Indonesia](https://id.wikipedia.org/wiki/Tentara_Nasional_Indonesia) | |\\n| Tokoh utama |\\n| | | |\\n| --- | --- |\\n| **Pemimpin unjuk rasa lokal** Supriyono \" [Zoro](https://id.wikipedia.org/wiki/Roronoa_Zoro)\"[\\\\[1\\\\]](https://id.wikipedia.org/id.wikipedia.org#cite_note-sumsel.tribunnews.com-1) Ahmad \" [Luffy](https://id.wikipedia.org/wiki/Monkey_D._Luffy)\" Hussein[\\\\[2\\\\]](https://id.wikipedia.org/id.wikipedia.org#cite_note-ReferenceA-2) | **[Pemerintah](https://id.wikipedia.or\\n-----------------'} }\n",
            "--------------------------------------------------------------------------------\n"
          ]
        },
        {
          "output_type": "display_data",
          "data": {
            "text/plain": [
              "<IPython.core.display.Markdown object>"
            ],
            "text/markdown": "###model:"
          },
          "metadata": {}
        },
        {
          "output_type": "display_data",
          "data": {
            "text/plain": [
              "<IPython.core.display.Markdown object>"
            ],
            "text/markdown": "Penyebab terjadinya demonstrasi di Pati, Jawa Tengah, adalah desakan dari masyarakat agar Bupati Pati, Sudewo, mundur dari jabatannya. Ada beberapa alasan utama di balik tuntutan ini:\n\n1.  **Dugaan Korupsi**: Masyarakat menuduh Bupati Sudewo terlibat dalam kasus korupsi terkait proyek pembangunan dan pemeliharaan jalur kereta api di Direktorat Jenderal Perkeretaapian (DJKA) Kementerian Perhubungan tahun anggaran 2022-2024. Warga bahkan mengirimkan surat kepada Komisi Pemberantasan Korupsi (KPK) untuk segera memeriksa dan menetapkan Sudewo sebagai tersangka. (Sumber: [BBC Indonesia](https://www.bbc.com/indonesia/articles/cx27365z0g2o))\n2.  **Kebijakan yang Tidak Pro-Rakyat dan Sikap Arogan**: Bupati Sudewo dianggap arogan dan mengeluarkan sejumlah kebijakan yang dinilai tidak berpihak kepada masyarakat, antara lain:\n    *   Usulan kenaikan 250% pajak bumi dan bangunan (PBB-P2).\n    *   Penolakan kebijakan sekolah lima hari.\n    *   Penghentian renovasi Alun-Alun dan pembongkaran masjid.\n    *   Pembatalan proyek videotron.\n    *   Tuntutan perekrutan kembali staf rumah sakit yang diberhentikan.\n    (Sumber: [Tempo.co](https://www.tempo.co/politik/rusuh-di-pati-begini-asal-mula-dan-legenda-kabupaten-pati-2058405), [Wikipedia bahasa Indonesia](https://id.wikipedia.org/wiki/Unjuk_rasa_Pati_2025))\n\nDemonstrasi ini bertujuan untuk membatalkan kenaikan pajak PBB-P2 dan menuntut pengunduran diri Bupati Sudewo."
          },
          "metadata": {}
        },
        {
          "output_type": "stream",
          "name": "stdout",
          "text": [
            "--------------------------------------------------------------------------------\n"
          ]
        }
      ]
    },
    {
      "cell_type": "code",
      "source": [],
      "metadata": {
        "id": "8lpRAR_qhUJu"
      },
      "execution_count": null,
      "outputs": []
    }
  ]
}